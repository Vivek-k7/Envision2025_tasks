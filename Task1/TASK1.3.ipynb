{
 "cells": [
  {
   "cell_type": "code",
   "execution_count": 5,
   "metadata": {
    "_cell_guid": "b1076dfc-b9ad-4769-8c92-a6c4dae69d19",
    "_uuid": "8f2839f25d086af736a60e9eeb907d3b93b6e0e5",
    "execution": {
     "iopub.execute_input": "2025-02-25T03:56:37.774964Z",
     "iopub.status.busy": "2025-02-25T03:56:37.774608Z",
     "iopub.status.idle": "2025-02-25T03:56:37.783188Z",
     "shell.execute_reply": "2025-02-25T03:56:37.781650Z",
     "shell.execute_reply.started": "2025-02-25T03:56:37.774938Z"
    },
    "trusted": true
   },
   "outputs": [
    {
     "name": "stdout",
     "output_type": "stream",
     "text": [
      "/kaggle/input/fifa22/fifa22.csv\n"
     ]
    },
    {
     "name": "stdout",
     "output_type": "stream",
     "text": [
      "/kaggle/input/fifa22/fifa22.csv\n"
     ]
    }
   ],
   "source": [
    "# This Python 3 environment comes with many helpful analytics libraries installed\n",
    "# It is defined by the kaggle/python Docker image: https://github.com/kaggle/docker-python\n",
    "# For example, here's several helpful packages to load\n",
    "\n",
    "import numpy as np # linear algebra\n",
    "import pandas as pd # data processing, CSV file I/O (e.g. pd.read_csv)\n",
    "from sklearn.preprocessing import MinMaxScaler\n",
    "\n",
    "# Input data files are available in the read-only \"../input/\" directory\n",
    "# For example, running this (by clicking run or pressing Shift+Enter) will list all files under the input directory\n",
    "\n",
    "import os\n",
    "for dirname, _, filenames in os.walk('/kaggle/input'):\n",
    "    for filename in filenames:\n",
    "        print(os.path.join(dirname, filename))\n",
    "\n",
    "# You can write up to 20GB to the current directory (/kaggle/working/) that gets preserved as output when you create a version using \"Save & Run All\" \n",
    "# You can also write temporary files to /kaggle/temp/, but they won't be saved outside of the current session"
   ]
  },
  {
   "cell_type": "code",
   "execution_count": null,
   "metadata": {
    "execution": {
     "iopub.execute_input": "2025-02-25T04:14:37.851859Z",
     "iopub.status.busy": "2025-02-25T04:14:37.851457Z",
     "iopub.status.idle": "2025-02-25T04:14:37.898448Z",
     "shell.execute_reply": "2025-02-25T04:14:37.897137Z",
     "shell.execute_reply.started": "2025-02-25T04:14:37.851827Z"
    },
    "trusted": true
   },
   "outputs": [],
   "source": [
    "df=pd.read_csv(\"/kaggle/input/fifa22.csv\")\n",
    "#using MinMaxScalar since we have a range to scale the data to.\n",
    "scaler = MinMaxScaler(feature_range=(0, 1))"
   ]
  },
  {
   "cell_type": "code",
   "execution_count": null,
   "metadata": {
    "trusted": true
   },
   "outputs": [],
   "source": [
    "#we must only take the columns with numerical values.\n",
    "required_columns=list(df.columns)[4:]\n",
    "transformed_data=scaler.fit_transform(df[required_columns])\n",
    "transformed_df=pd.DataFrame(transformed_data,columns=required_columns)"
   ]
  },
  {
   "cell_type": "code",
   "execution_count": 32,
   "metadata": {
    "execution": {
     "iopub.execute_input": "2025-02-25T04:14:40.986938Z",
     "iopub.status.busy": "2025-02-25T04:14:40.986512Z",
     "iopub.status.idle": "2025-02-25T04:14:41.004665Z",
     "shell.execute_reply": "2025-02-25T04:14:41.001028Z",
     "shell.execute_reply.started": "2025-02-25T04:14:40.986906Z"
    },
    "trusted": true
   },
   "outputs": [
    {
     "name": "stdout",
     "output_type": "stream",
     "text": [
      "       sofifa_id          short_name                            long_name  \\\n",
      "0         158023            L. Messi       Lionel Andrés Messi Cuccittini   \n",
      "1         188545      R. Lewandowski                   Robert Lewandowski   \n",
      "2          20801   Cristiano Ronaldo  Cristiano Ronaldo dos Santos Aveiro   \n",
      "3         190871           Neymar Jr        Neymar da Silva Santos Júnior   \n",
      "4         192985        K. De Bruyne                      Kevin De Bruyne   \n",
      "...          ...                 ...                                  ...   \n",
      "19234     261962           Song Defu                                  宋德福   \n",
      "19235     262040           C. Porter                      Caoimhin Porter   \n",
      "19236     262760            N. Logue              Nathan Logue-Cunningham   \n",
      "19237     262820           L. Rudden                          Luke Rudden   \n",
      "19238     264540  E. Lalchhanchhuaha              Emanuel Lalchhanchhuaha   \n",
      "\n",
      "        overall  potential  value_eur  wage_eur       age  height_cm  \n",
      "0      1.000000   0.956522   0.402034  0.914163  0.473684   0.294118  \n",
      "1      0.978261   0.934783   0.615962  0.771102  0.421053   0.588235  \n",
      "2      0.956522   0.913043   0.231923  0.771102  0.526316   0.627451  \n",
      "3      0.956522   0.913043   0.664933  0.771102  0.342105   0.392157  \n",
      "4      0.956522   0.913043   0.646891  1.000000  0.368421   0.509804  \n",
      "...         ...        ...        ...       ...       ...        ...  \n",
      "19234  0.000000   0.065217   0.000314  0.001431  0.157895   0.490196  \n",
      "19235  0.000000   0.217391   0.000521  0.000000  0.078947   0.392157  \n",
      "19236  0.000000   0.130435   0.000469  0.000000  0.131579   0.450980  \n",
      "19237  0.000000   0.239130   0.000521  0.000000  0.078947   0.352941  \n",
      "19238  0.000000   0.239130   0.000521  0.000000  0.078947   0.235294  \n",
      "\n",
      "[19239 rows x 9 columns]\n"
     ]
    }
   ],
   "source": [
    "#now joining the transformed df with original non numerical data from the fifa22 dataframe.\n",
    "required_df=df.iloc[:,[x for x in range(3)]].join(transformed_df)\n",
    "print(required_df)"
   ]
  },
  {
   "cell_type": "code",
   "execution_count": 35,
   "metadata": {
    "execution": {
     "iopub.execute_input": "2025-02-25T04:18:34.206894Z",
     "iopub.status.busy": "2025-02-25T04:18:34.206478Z",
     "iopub.status.idle": "2025-02-25T04:18:34.363463Z",
     "shell.execute_reply": "2025-02-25T04:18:34.362363Z",
     "shell.execute_reply.started": "2025-02-25T04:18:34.206861Z"
    },
    "trusted": true
   },
   "outputs": [],
   "source": [
    "required_df.to_csv(\"scaled_processed.csv\")"
   ]
  }
 ],
 "metadata": {
  "kaggle": {
   "accelerator": "none",
   "dataSources": [
    {
     "datasetId": 6693997,
     "sourceId": 10786889,
     "sourceType": "datasetVersion"
    }
   ],
   "dockerImageVersionId": 30918,
   "isGpuEnabled": false,
   "isInternetEnabled": false,
   "language": "python",
   "sourceType": "notebook"
  },
  "kernelspec": {
   "display_name": "Python 3",
   "language": "python",
   "name": "python3"
  },
  "language_info": {
   "codemirror_mode": {
    "name": "ipython",
    "version": 3
   },
   "file_extension": ".py",
   "mimetype": "text/x-python",
   "name": "python",
   "nbconvert_exporter": "python",
   "pygments_lexer": "ipython3",
   "version": "3.10.12"
  }
 },
 "nbformat": 4,
 "nbformat_minor": 4
}
