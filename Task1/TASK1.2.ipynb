{
 "cells": [
  {
   "cell_type": "code",
   "execution_count": 6,
   "metadata": {
    "_cell_guid": "b1076dfc-b9ad-4769-8c92-a6c4dae69d19",
    "_uuid": "8f2839f25d086af736a60e9eeb907d3b93b6e0e5",
    "execution": {
     "iopub.execute_input": "2025-02-24T10:49:45.552608Z",
     "iopub.status.busy": "2025-02-24T10:49:45.552180Z",
     "iopub.status.idle": "2025-02-24T10:49:46.058661Z",
     "shell.execute_reply": "2025-02-24T10:49:46.057353Z",
     "shell.execute_reply.started": "2025-02-24T10:49:45.552578Z"
    },
    "trusted": true
   },
   "outputs": [
    {
     "name": "stdout",
     "output_type": "stream",
     "text": [
      "/kaggle/input/fifa22/fifa22.csv\n"
     ]
    }
   ],
   "source": [
    "# This Python 3 environment comes with many helpful analytics libraries installed\n",
    "# It is defined by the kaggle/python Docker image: https://github.com/kaggle/docker-python\n",
    "# For example, here's several helpful packages to load\n",
    "\n",
    "import numpy as np # linear algebra\n",
    "import pandas as pd # data processing, CSV file I/O (e.g. pd.read_csv)\n",
    "\n",
    "# Input data files are available in the read-only \"../input/\" directory\n",
    "# For example, running this (by clicking run or pressing Shift+Enter) will list all files under the input directory\n",
    "\n",
    "import os\n",
    "for dirname, _, filenames in os.walk('/kaggle/input'):\n",
    "    for filename in filenames:\n",
    "        print(os.path.join(dirname, filename))\n",
    "\n",
    "# You can write up to 20GB to the current directory (/kaggle/working/) that gets preserved as output when you create a version using \"Save & Run All\" \n",
    "# You can also write temporary files to /kaggle/temp/, but they won't be saved outside of the current session"
   ]
  },
  {
   "cell_type": "code",
   "execution_count": null,
   "metadata": {
    "execution": {
     "iopub.execute_input": "2025-02-24T10:50:33.807629Z",
     "iopub.status.busy": "2025-02-24T10:50:33.807199Z",
     "iopub.status.idle": "2025-02-24T10:50:33.894509Z",
     "shell.execute_reply": "2025-02-24T10:50:33.893521Z",
     "shell.execute_reply.started": "2025-02-24T10:50:33.807596Z"
    },
    "trusted": true
   },
   "outputs": [],
   "source": [
    "df=pd.read_csv(\"/kaggle/input/fifa22.csv\")"
   ]
  },
  {
   "cell_type": "code",
   "execution_count": 16,
   "metadata": {
    "execution": {
     "iopub.execute_input": "2025-02-24T10:54:23.122727Z",
     "iopub.status.busy": "2025-02-24T10:54:23.122268Z",
     "iopub.status.idle": "2025-02-24T10:55:44.613896Z",
     "shell.execute_reply": "2025-02-24T10:55:44.612804Z",
     "shell.execute_reply.started": "2025-02-24T10:54:23.122699Z"
    },
    "trusted": true
   },
   "outputs": [
    {
     "name": "stdout",
     "output_type": "stream",
     "text": [
      "Enter the position of the player: cf\n",
      "Enter the annual budget 12345\n"
     ]
    }
   ],
   "source": [
    "pos=input(\"Enter the position of the player:\").upper()\n",
    "budget=int(input(\"Enter the annual budget\"))"
   ]
  },
  {
   "cell_type": "code",
   "execution_count": 42,
   "metadata": {
    "execution": {
     "iopub.execute_input": "2025-02-24T12:00:53.270442Z",
     "iopub.status.busy": "2025-02-24T12:00:53.270032Z",
     "iopub.status.idle": "2025-02-24T12:00:53.292071Z",
     "shell.execute_reply": "2025-02-24T12:00:53.290481Z",
     "shell.execute_reply.started": "2025-02-24T12:00:53.270396Z"
    },
    "trusted": true
   },
   "outputs": [
    {
     "name": "stdout",
     "output_type": "stream",
     "text": [
      "               short_name                          long_name  overall  \\\n",
      "901             S. Blanco           Sebastián Marcelo Blanco       77   \n",
      "1268   D. Moberg Karlsson  Jens David Joacim Moberg-Karlsson       76   \n",
      "1464           L. Jiménez        Luis Antonio Jiménez Garcés       75   \n",
      "1497              M. Berg             Bengt Erik Marcus Berg       75   \n",
      "1839        Dênildo Stein          Dênis Rubens Stein Rebelo       75   \n",
      "...                   ...                                ...      ...   \n",
      "18885           F. Mawana                     Filston Mawana       51   \n",
      "18900             Ma Fuyu                                马辅渔       51   \n",
      "18955         K. Ichimori                      Kato Ichimori       51   \n",
      "19123            M. Lahdo                      Mayckel Lahdo       49   \n",
      "19228            F. Molla                   Fardin Ali Molla       47   \n",
      "\n",
      "       wage_eur  \n",
      "901     10000.0  \n",
      "1268     1000.0  \n",
      "1464     4000.0  \n",
      "1497     7000.0  \n",
      "1839    12000.0  \n",
      "...         ...  \n",
      "18885     800.0  \n",
      "18900    1000.0  \n",
      "18955     500.0  \n",
      "19123     500.0  \n",
      "19228     500.0  \n",
      "\n",
      "[321 rows x 4 columns]\n"
     ]
    }
   ],
   "source": [
    "#remove rows with NaN as wage_eur attribute \n",
    "df = df.dropna(subset=['wage_eur'])\n",
    "required_players = df[(df['wage_eur'] <= budget) & (df['player_positions'].apply(lambda x: pos in x))][['short_name','long_name','overall', 'wage_eur']]\n",
    "required_players=required_players.sort_values(by='overall',ascending=False)\n",
    "print(required_players)"
   ]
  }
 ],
 "metadata": {
  "kaggle": {
   "accelerator": "none",
   "dataSources": [
    {
     "datasetId": 6693997,
     "sourceId": 10786889,
     "sourceType": "datasetVersion"
    }
   ],
   "dockerImageVersionId": 30918,
   "isGpuEnabled": false,
   "isInternetEnabled": false,
   "language": "python",
   "sourceType": "notebook"
  },
  "kernelspec": {
   "display_name": "Python 3",
   "language": "python",
   "name": "python3"
  },
  "language_info": {
   "codemirror_mode": {
    "name": "ipython",
    "version": 3
   },
   "file_extension": ".py",
   "mimetype": "text/x-python",
   "name": "python",
   "nbconvert_exporter": "python",
   "pygments_lexer": "ipython3",
   "version": "3.10.12"
  }
 },
 "nbformat": 4,
 "nbformat_minor": 4
}
