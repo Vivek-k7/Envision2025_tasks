{
 "cells": [
  {
   "cell_type": "code",
   "execution_count": 2,
   "metadata": {
    "_cell_guid": "b1076dfc-b9ad-4769-8c92-a6c4dae69d19",
    "_uuid": "8f2839f25d086af736a60e9eeb907d3b93b6e0e5",
    "execution": {
     "iopub.execute_input": "2025-02-25T04:48:37.274980Z",
     "iopub.status.busy": "2025-02-25T04:48:37.274649Z",
     "iopub.status.idle": "2025-02-25T04:48:37.684185Z",
     "shell.execute_reply": "2025-02-25T04:48:37.683070Z",
     "shell.execute_reply.started": "2025-02-25T04:48:37.274955Z"
    },
    "trusted": true
   },
   "outputs": [
    {
     "name": "stdout",
     "output_type": "stream",
     "text": [
      "/kaggle/input/fifa22/fifa22.csv\n"
     ]
    }
   ],
   "source": [
    "# This Python 3 environment comes with many helpful analytics libraries installed\n",
    "# It is defined by the kaggle/python Docker image: https://github.com/kaggle/docker-python\n",
    "# For example, here's several helpful packages to load\n",
    "\n",
    "import numpy as np # linear algebra\n",
    "import pandas as pd # data processing, CSV file I/O (e.g. pd.read_csv)\n",
    "import matplotlib.pyplot as plt\n",
    "# Input data files are available in the read-only \"../input/\" directory\n",
    "# For example, running this (by clicking run or pressing Shift+Enter) will list all files under the input directory\n",
    "\n",
    "import os\n",
    "for dirname, _, filenames in os.walk('/kaggle/input'):\n",
    "    for filename in filenames:\n",
    "        print(os.path.join(dirname, filename))\n",
    "\n",
    "# You can write up to 20GB to the current directory (/kaggle/working/) that gets preserved as output when you create a version using \"Save & Run All\" \n",
    "# You can also write temporary files to /kaggle/temp/, but they won't be saved outside of the current session"
   ]
  },
  {
   "cell_type": "markdown",
   "metadata": {},
   "source": [
    "**Loading the Dataframe from fifa22.csv:**"
   ]
  },
  {
   "cell_type": "code",
   "execution_count": null,
   "metadata": {
    "execution": {
     "iopub.execute_input": "2025-02-25T04:53:58.845629Z",
     "iopub.status.busy": "2025-02-25T04:53:58.845158Z",
     "iopub.status.idle": "2025-02-25T04:53:58.905719Z",
     "shell.execute_reply": "2025-02-25T04:53:58.904644Z",
     "shell.execute_reply.started": "2025-02-25T04:53:58.845593Z"
    },
    "trusted": true
   },
   "outputs": [
    {
     "name": "stdout",
     "output_type": "stream",
     "text": [
      "       sofifa_id          short_name                            long_name  \\\n",
      "0         158023            L. Messi       Lionel Andrés Messi Cuccittini   \n",
      "1         188545      R. Lewandowski                   Robert Lewandowski   \n",
      "2          20801   Cristiano Ronaldo  Cristiano Ronaldo dos Santos Aveiro   \n",
      "3         190871           Neymar Jr        Neymar da Silva Santos Júnior   \n",
      "4         192985        K. De Bruyne                      Kevin De Bruyne   \n",
      "...          ...                 ...                                  ...   \n",
      "19234     261962           Song Defu                                  宋德福   \n",
      "19235     262040           C. Porter                      Caoimhin Porter   \n",
      "19236     262760            N. Logue              Nathan Logue-Cunningham   \n",
      "19237     262820           L. Rudden                          Luke Rudden   \n",
      "19238     264540  E. Lalchhanchhuaha              Emanuel Lalchhanchhuaha   \n",
      "\n",
      "      player_positions  overall  potential    value_eur  wage_eur  age  \\\n",
      "0           RW, ST, CF       93         93   78000000.0  320000.0   34   \n",
      "1                   ST       92         92  119500000.0  270000.0   32   \n",
      "2               ST, LW       91         91   45000000.0  270000.0   36   \n",
      "3              LW, CAM       91         91  129000000.0  270000.0   29   \n",
      "4              CM, CAM       91         91  125500000.0  350000.0   30   \n",
      "...                ...      ...        ...          ...       ...  ...   \n",
      "19234              CDM       47         52      70000.0    1000.0   22   \n",
      "19235               CM       47         59     110000.0     500.0   19   \n",
      "19236               CM       47         55     100000.0     500.0   21   \n",
      "19237               ST       47         60     110000.0     500.0   19   \n",
      "19238              CAM       47         60     110000.0     500.0   19   \n",
      "\n",
      "       height_cm  \n",
      "0            170  \n",
      "1            185  \n",
      "2            187  \n",
      "3            175  \n",
      "4            181  \n",
      "...          ...  \n",
      "19234        180  \n",
      "19235        175  \n",
      "19236        178  \n",
      "19237        173  \n",
      "19238        167  \n",
      "\n",
      "[19239 rows x 10 columns]\n"
     ]
    }
   ],
   "source": [
    "df = pd.read_csv('/kaggle/input/fifa22.csv')\n",
    "print(df)"
   ]
  },
  {
   "cell_type": "markdown",
   "metadata": {},
   "source": [
    "**STEP 1:**\n",
    "remove the long name column"
   ]
  },
  {
   "cell_type": "code",
   "execution_count": 28,
   "metadata": {
    "execution": {
     "iopub.execute_input": "2025-02-23T11:54:14.795848Z",
     "iopub.status.busy": "2025-02-23T11:54:14.795469Z",
     "iopub.status.idle": "2025-02-23T11:54:14.807982Z",
     "shell.execute_reply": "2025-02-23T11:54:14.806721Z",
     "shell.execute_reply.started": "2025-02-23T11:54:14.795811Z"
    },
    "trusted": true
   },
   "outputs": [
    {
     "name": "stdout",
     "output_type": "stream",
     "text": [
      "       sofifa_id          short_name player_positions  overall  potential  \\\n",
      "0         158023            L. Messi       RW, ST, CF       93         93   \n",
      "1         188545      R. Lewandowski               ST       92         92   \n",
      "2          20801   Cristiano Ronaldo           ST, LW       91         91   \n",
      "3         190871           Neymar Jr          LW, CAM       91         91   \n",
      "4         192985        K. De Bruyne          CM, CAM       91         91   \n",
      "...          ...                 ...              ...      ...        ...   \n",
      "19234     261962           Song Defu              CDM       47         52   \n",
      "19235     262040           C. Porter               CM       47         59   \n",
      "19236     262760            N. Logue               CM       47         55   \n",
      "19237     262820           L. Rudden               ST       47         60   \n",
      "19238     264540  E. Lalchhanchhuaha              CAM       47         60   \n",
      "\n",
      "         value_eur  wage_eur  age  height_cm  \n",
      "0       78000000.0  320000.0   34        170  \n",
      "1      119500000.0  270000.0   32        185  \n",
      "2       45000000.0  270000.0   36        187  \n",
      "3      129000000.0  270000.0   29        175  \n",
      "4      125500000.0  350000.0   30        181  \n",
      "...            ...       ...  ...        ...  \n",
      "19234      70000.0    1000.0   22        180  \n",
      "19235     110000.0     500.0   19        175  \n",
      "19236     100000.0     500.0   21        178  \n",
      "19237     110000.0     500.0   19        173  \n",
      "19238     110000.0     500.0   19        167  \n",
      "\n",
      "[19239 rows x 9 columns]\n"
     ]
    }
   ],
   "source": [
    "df.drop(columns=['long_name'],inplace=True)\n",
    "print(df)"
   ]
  },
  {
   "cell_type": "markdown",
   "metadata": {},
   "source": [
    "**STEP 2**:\n",
    "Convert the Short Name column to lowercase."
   ]
  },
  {
   "cell_type": "code",
   "execution_count": 29,
   "metadata": {
    "execution": {
     "iopub.execute_input": "2025-02-23T11:54:14.809786Z",
     "iopub.status.busy": "2025-02-23T11:54:14.809451Z",
     "iopub.status.idle": "2025-02-23T11:54:14.835894Z",
     "shell.execute_reply": "2025-02-23T11:54:14.834598Z",
     "shell.execute_reply.started": "2025-02-23T11:54:14.809757Z"
    },
    "trusted": true
   },
   "outputs": [
    {
     "name": "stdout",
     "output_type": "stream",
     "text": [
      "       sofifa_id          short_name player_positions  overall  potential  \\\n",
      "0         158023            l. messi       RW, ST, CF       93         93   \n",
      "1         188545      r. lewandowski               ST       92         92   \n",
      "2          20801   cristiano ronaldo           ST, LW       91         91   \n",
      "3         190871           neymar jr          LW, CAM       91         91   \n",
      "4         192985        k. de bruyne          CM, CAM       91         91   \n",
      "...          ...                 ...              ...      ...        ...   \n",
      "19234     261962           song defu              CDM       47         52   \n",
      "19235     262040           c. porter               CM       47         59   \n",
      "19236     262760            n. logue               CM       47         55   \n",
      "19237     262820           l. rudden               ST       47         60   \n",
      "19238     264540  e. lalchhanchhuaha              CAM       47         60   \n",
      "\n",
      "         value_eur  wage_eur  age  height_cm  \n",
      "0       78000000.0  320000.0   34        170  \n",
      "1      119500000.0  270000.0   32        185  \n",
      "2       45000000.0  270000.0   36        187  \n",
      "3      129000000.0  270000.0   29        175  \n",
      "4      125500000.0  350000.0   30        181  \n",
      "...            ...       ...  ...        ...  \n",
      "19234      70000.0    1000.0   22        180  \n",
      "19235     110000.0     500.0   19        175  \n",
      "19236     100000.0     500.0   21        178  \n",
      "19237     110000.0     500.0   19        173  \n",
      "19238     110000.0     500.0   19        167  \n",
      "\n",
      "[19239 rows x 9 columns]\n"
     ]
    }
   ],
   "source": [
    "df['short_name']=df['short_name'].str.lower()\n",
    "print(df)"
   ]
  },
  {
   "cell_type": "markdown",
   "metadata": {},
   "source": [
    "**STEP 3:**\n",
    "To obtain the 10 most valuable players"
   ]
  },
  {
   "cell_type": "code",
   "execution_count": 30,
   "metadata": {
    "execution": {
     "iopub.execute_input": "2025-02-23T11:54:14.837344Z",
     "iopub.status.busy": "2025-02-23T11:54:14.837055Z",
     "iopub.status.idle": "2025-02-23T11:54:14.863110Z",
     "shell.execute_reply": "2025-02-23T11:54:14.862077Z",
     "shell.execute_reply.started": "2025-02-23T11:54:14.837320Z"
    },
    "trusted": true
   },
   "outputs": [
    {
     "name": "stdout",
     "output_type": "stream",
     "text": [
      "    sofifa_id           short_name player_positions  overall  potential  \\\n",
      "6      231747            k. mbappé           ST, LW       91         95   \n",
      "29     239085           e. haaland               ST       88         93   \n",
      "9      202126              h. kane               ST       90         90   \n",
      "3      190871            neymar jr          LW, CAM       91         91   \n",
      "4      192985         k. de bruyne          CM, CAM       91         91   \n",
      "1      188545       r. lewandowski               ST       92         92   \n",
      "43     228702           f. de jong      CM, CDM, CB       87         92   \n",
      "21     230621        g. donnarumma               GK       89         93   \n",
      "45     233049            j. sancho       RM, CF, LM       87         91   \n",
      "44     231281  t. alexander-arnold               RB       87         92   \n",
      "\n",
      "      value_eur  wage_eur  age  height_cm  \n",
      "6   194000000.0  230000.0   22        182  \n",
      "29  137500000.0  110000.0   20        194  \n",
      "9   129500000.0  240000.0   27        188  \n",
      "3   129000000.0  270000.0   29        175  \n",
      "4   125500000.0  350000.0   30        181  \n",
      "1   119500000.0  270000.0   32        185  \n",
      "43  119500000.0  210000.0   24        180  \n",
      "21  119500000.0  110000.0   22        196  \n",
      "45  116500000.0  150000.0   21        180  \n",
      "44  114000000.0  150000.0   22        180  \n"
     ]
    }
   ],
   "source": [
    "most_val=df.sort_values(by='value_eur',ascending=False)[:10]\n",
    "print(most_val)\n"
   ]
  },
  {
   "cell_type": "markdown",
   "metadata": {},
   "source": [
    "**STEP 4:**\n",
    "Plot the counts of Overall and Potential columns.\n",
    "NOTE: Bar graph is used as we have to plot frequencies of distinct categories"
   ]
  },
  {
   "cell_type": "code",
   "execution_count": 7,
   "metadata": {
    "execution": {
     "iopub.execute_input": "2025-02-25T04:52:17.078171Z",
     "iopub.status.busy": "2025-02-25T04:52:17.077813Z",
     "iopub.status.idle": "2025-02-25T04:52:17.676781Z",
     "shell.execute_reply": "2025-02-25T04:52:17.675631Z",
     "shell.execute_reply.started": "2025-02-25T04:52:17.078143Z"
    },
    "trusted": true
   },
   "outputs": [
    {
     "data": {
      "image/png": "[encoded data removed]",
      "text/plain": [
       "<Figure size 1000x500 with 1 Axes>"
      ]
     },
     "metadata": {},
     "output_type": "display_data"
    },
    {
     "data": {
      "image/png": "[encoded data removed]",
      "text/plain": [
       "<Figure size 1000x500 with 1 Axes>"
      ]
     },
     "metadata": {},
     "output_type": "display_data"
    }
   ],
   "source": [
    "overall_count = dict(df['overall'].value_counts())\n",
    "potential_count = dict(df['potential'].value_counts())\n",
    "\n",
    "# Converting overall counts to lists\n",
    "ratings = list(overall_count.keys())\n",
    "frequencies = list(overall_count.values())\n",
    "\n",
    "# Plot Overall ratings count\n",
    "plt.figure(figsize=(10, 5))\n",
    "plt.bar(ratings, frequencies, color='blue')\n",
    "plt.title('Distribution of Overall Ratings')\n",
    "plt.xlabel('Overall Rating')\n",
    "plt.ylabel('Count')\n",
    "#plt.xticks used so that the values in x axis do not overlap\n",
    "plt.xticks(rotation=90)\n",
    "plt.show()\n",
    "\n",
    "# Converting potential counts to lists\n",
    "potential_ratings = list(potential_count.keys())\n",
    "potential_frequencies = list(potential_count.values())\n",
    "\n",
    "# Plotting Potential ratings count\n",
    "plt.figure(figsize=(10, 5))\n",
    "plt.bar(potential_ratings, potential_frequencies, color='red')\n",
    "plt.title('Distribution of Potential Ratings')\n",
    "plt.xlabel('Potential Rating')\n",
    "plt.ylabel('Count')\n",
    "plt.xticks(rotation=90)\n",
    "plt.show()"
   ]
  },
  {
   "cell_type": "markdown",
   "metadata": {},
   "source": [
    "**STEP 5:**\n",
    "Find underrated players by analyzing:\n",
    "Potential/Wage per week,\n",
    "Value/Wage per week"
   ]
  },
  {
   "cell_type": "code",
   "execution_count": 32,
   "metadata": {
    "execution": {
     "iopub.execute_input": "2025-02-23T11:54:15.310447Z",
     "iopub.status.busy": "2025-02-23T11:54:15.310077Z",
     "iopub.status.idle": "2025-02-23T11:54:15.334763Z",
     "shell.execute_reply": "2025-02-23T11:54:15.333847Z",
     "shell.execute_reply.started": "2025-02-23T11:54:15.310409Z"
    },
    "trusted": true
   },
   "outputs": [
    {
     "name": "stdout",
     "output_type": "stream",
     "text": [
      "      sofifa_id     short_name player_positions  overall  potential  \\\n",
      "282      241671   d. livaković               GK       82         87   \n",
      "506      244369   v. tsygankov               RM       80         86   \n",
      "1450     246618      a. hložek       ST, LM, RM       76         87   \n",
      "1454     247641           tete               RM       76         86   \n",
      "1453     246791     m. solomon      RM, LM, CAM       76         86   \n",
      "1442     244374  m. shaparenko          CM, CAM       76         84   \n",
      "1443     244380   v. mykolenko               LB       76         83   \n",
      "851      244467       o. kolář               GK       78         82   \n",
      "1092     237520      m. camara          CM, CDM       77         82   \n",
      "1134     253727      l. provod       CM, LM, RM       77         82   \n",
      "\n",
      "       value_eur  wage_eur  age  height_cm  \n",
      "282   35000000.0    1000.0   26        187  \n",
      "506   33500000.0    1000.0   23        178  \n",
      "1450  16000000.0     500.0   18        188  \n",
      "1454  17000000.0     800.0   21        175  \n",
      "1453  17000000.0     800.0   21        170  \n",
      "1442  17000000.0     900.0   22        177  \n",
      "1443  14500000.0     850.0   22        180  \n",
      "851   15000000.0     900.0   26        193  \n",
      "1092  16000000.0    1000.0   24        182  \n",
      "1134  16000000.0    1000.0   24        189   \n",
      "        sofifa_id      short_name player_positions  overall  potential  \\\n",
      "1450      246618       a. hložek       ST, LM, RM       76         87   \n",
      "7335      252508    k. kozłowski          CAM, CM       68         85   \n",
      "3825      262578     m. vušković               CB       72         85   \n",
      "7454      262585         s. biuk           LM, LW       68         85   \n",
      "6389      261143        m. bulat          CM, CDM       69         84   \n",
      "4575      256970      a. karabec      CAM, CM, LM       71         84   \n",
      "10992     260952  a. schjelderup      CAM, LW, ST       65         84   \n",
      "10941     258498   b. verbruggen               GK       65         83   \n",
      "7398      255939         ž. laci               CB       68         83   \n",
      "8483      252552     k. tzolakis               GK       67         83   \n",
      "\n",
      "        value_eur  wage_eur  age  height_cm  \n",
      "1450   16000000.0     500.0   18        188  \n",
      "7335    3000000.0     500.0   17        178  \n",
      "3825    5000000.0     500.0   19        189  \n",
      "7454    3100000.0     500.0   18        182  \n",
      "6389    3300000.0     500.0   19        178  \n",
      "4575    4300000.0     500.0   17        185  \n",
      "10992   1800000.0     500.0   17        172  \n",
      "10941   1600000.0     500.0   18        193  \n",
      "7398    2600000.0     500.0   18        187  \n",
      "8483    2300000.0     500.0   18        193  \n"
     ]
    }
   ],
   "source": [
    "underrated_1=df.sort_values(by='value_eur',key=lambda x:x/df['wage_eur'],ascending=False)[:10]\n",
    "underrated_2=df.sort_values(by='potential',key=lambda x:x/df['wage_eur'],ascending=False)[:10]\n",
    "print(underrated_1,'\\n',underrated_2)"
   ]
  },
  {
   "cell_type": "markdown",
   "metadata": {},
   "source": [
    "**STEP 6:**\n",
    " Convert Height from cm to meters."
   ]
  },
  {
   "cell_type": "code",
   "execution_count": 33,
   "metadata": {
    "execution": {
     "iopub.execute_input": "2025-02-23T11:54:15.336902Z",
     "iopub.status.busy": "2025-02-23T11:54:15.336645Z",
     "iopub.status.idle": "2025-02-23T11:54:15.350694Z",
     "shell.execute_reply": "2025-02-23T11:54:15.349617Z",
     "shell.execute_reply.started": "2025-02-23T11:54:15.336881Z"
    },
    "trusted": true
   },
   "outputs": [
    {
     "name": "stdout",
     "output_type": "stream",
     "text": [
      "       sofifa_id          short_name player_positions  overall  potential  \\\n",
      "0         158023            l. messi       RW, ST, CF       93         93   \n",
      "1         188545      r. lewandowski               ST       92         92   \n",
      "2          20801   cristiano ronaldo           ST, LW       91         91   \n",
      "3         190871           neymar jr          LW, CAM       91         91   \n",
      "4         192985        k. de bruyne          CM, CAM       91         91   \n",
      "...          ...                 ...              ...      ...        ...   \n",
      "19234     261962           song defu              CDM       47         52   \n",
      "19235     262040           c. porter               CM       47         59   \n",
      "19236     262760            n. logue               CM       47         55   \n",
      "19237     262820           l. rudden               ST       47         60   \n",
      "19238     264540  e. lalchhanchhuaha              CAM       47         60   \n",
      "\n",
      "         value_eur  wage_eur  age  height_m  \n",
      "0       78000000.0  320000.0   34      1.70  \n",
      "1      119500000.0  270000.0   32      1.85  \n",
      "2       45000000.0  270000.0   36      1.87  \n",
      "3      129000000.0  270000.0   29      1.75  \n",
      "4      125500000.0  350000.0   30      1.81  \n",
      "...            ...       ...  ...       ...  \n",
      "19234      70000.0    1000.0   22      1.80  \n",
      "19235     110000.0     500.0   19      1.75  \n",
      "19236     100000.0     500.0   21      1.78  \n",
      "19237     110000.0     500.0   19      1.73  \n",
      "19238     110000.0     500.0   19      1.67  \n",
      "\n",
      "[19239 rows x 9 columns]\n"
     ]
    }
   ],
   "source": [
    "df['height_m']=df.height_cm/100\n",
    "df.drop(\"height_cm\",axis='columns',inplace=True)\n",
    "print(df)"
   ]
  },
  {
   "cell_type": "markdown",
   "metadata": {},
   "source": [
    "**STEP 7:**\n",
    " Save the dataset in CSV and Parquet format."
   ]
  },
  {
   "cell_type": "code",
   "execution_count": 34,
   "metadata": {
    "execution": {
     "iopub.execute_input": "2025-02-23T12:03:39.865402Z",
     "iopub.status.busy": "2025-02-23T12:03:39.865001Z",
     "iopub.status.idle": "2025-02-23T12:03:39.960345Z",
     "shell.execute_reply": "2025-02-23T12:03:39.959490Z",
     "shell.execute_reply.started": "2025-02-23T12:03:39.865371Z"
    },
    "trusted": true
   },
   "outputs": [],
   "source": [
    "df.to_csv(\"new_fifa22.csv\")"
   ]
  },
  {
   "cell_type": "code",
   "execution_count": 35,
   "metadata": {
    "execution": {
     "iopub.execute_input": "2025-02-23T12:04:31.580172Z",
     "iopub.status.busy": "2025-02-23T12:04:31.579800Z",
     "iopub.status.idle": "2025-02-23T12:04:31.706576Z",
     "shell.execute_reply": "2025-02-23T12:04:31.705503Z",
     "shell.execute_reply.started": "2025-02-23T12:04:31.580143Z"
    },
    "trusted": true
   },
   "outputs": [],
   "source": [
    "df.to_parquet(\"new_fifa22.parquet\")"
   ]
  }
 ],
 "metadata": {
  "kaggle": {
   "accelerator": "none",
   "dataSources": [
    {
     "datasetId": 6693997,
     "sourceId": 10786889,
     "sourceType": "datasetVersion"
    }
   ],
   "dockerImageVersionId": 30886,
   "isGpuEnabled": false,
   "isInternetEnabled": false,
   "language": "python",
   "sourceType": "notebook"
  },
  "kernelspec": {
   "display_name": "Python 3",
   "language": "python",
   "name": "python3"
  },
  "language_info": {
   "codemirror_mode": {
    "name": "ipython",
    "version": 3
   },
   "file_extension": ".py",
   "mimetype": "text/x-python",
   "name": "python",
   "nbconvert_exporter": "python",
   "pygments_lexer": "ipython3",
   "version": "3.10.12"
  }
 },
 "nbformat": 4,
 "nbformat_minor": 4
}
